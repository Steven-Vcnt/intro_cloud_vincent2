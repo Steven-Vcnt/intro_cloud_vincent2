{
 "cells": [
  {
   "cell_type": "code",
   "execution_count": 4,
   "metadata": {},
   "outputs": [],
   "source": [
    "import credential as cr\n",
    "import requests\n",
    "import pandas as pd\n",
    "import json\n",
    "pd.set_option('display.max_columns', 500)\n",
    "# Set your Alpha Vantage API Key\n"
   ]
  },
  {
   "cell_type": "code",
   "execution_count": null,
   "metadata": {},
   "outputs": [],
   "source": [
    "cr.AV_API_Key"
   ]
  },
  {
   "cell_type": "code",
   "execution_count": null,
   "metadata": {},
   "outputs": [],
   "source": [
    "https://www.alphavantage.co/query?\n",
    "function=SYMBOL_SEARCH&keywords={searchKeyword}&apikey={apiKey}"
   ]
  },
  {
   "cell_type": "code",
   "execution_count": null,
   "metadata": {},
   "outputs": [],
   "source": [
    "search_keyword='nestle'\n",
    "url = 'https://www.alphavantage.co/query?function=SYMBOL_SEARCH&keywords={searchKeyword}&apikey={apiKey}'.format(apiKey=cr.AV_API_Key, searchKeyword=search_keyword)\n",
    "r_search = requests.get(url)\n",
    "js_search = r_search.json()\n",
    "df_search=pd.json_normalize(js_search)\n",
    "display(df_search)"
   ]
  },
  {
   "cell_type": "code",
   "execution_count": null,
   "metadata": {},
   "outputs": [],
   "source": [
    "pd.json_normalize(df_search['bestMatches'])"
   ]
  },
  {
   "cell_type": "code",
   "execution_count": null,
   "metadata": {},
   "outputs": [],
   "source": [
    "df_search['bestMatches'][0]"
   ]
  },
  {
   "cell_type": "code",
   "execution_count": null,
   "metadata": {},
   "outputs": [],
   "source": [
    "r_search.content"
   ]
  },
  {
   "cell_type": "code",
   "execution_count": null,
   "metadata": {},
   "outputs": [],
   "source": [
    "import pprint as pp"
   ]
  },
  {
   "cell_type": "code",
   "execution_count": null,
   "metadata": {},
   "outputs": [],
   "source": [
    "ticker_information=pd.DataFrame()\n",
    "ticker_list=['GOOGL','AAPL', 'META', 'AMZN', 'MSFT']\n",
    "for ticker in ticker_list :\n",
    "    r_overview = requests.get('https://www.alphavantage.co/query?function=OVERVIEW&symbol={ticker}&apikey={apiKey}'.format(apiKey=cr.AV_API_Key, ticker=ticker))\n",
    "    js_overview=r_overview.json()\n",
    "    df_overview=pd.json_normalize(js_overview)\n",
    "    ticker_information=pd.concat([ticker_information, df_overview])\n",
    "    display(ticker_information.head())"
   ]
  },
  {
   "cell_type": "code",
   "execution_count": null,
   "metadata": {},
   "outputs": [],
   "source": [
    "ticker_time_series=pd.DataFrame()\n",
    "ticker_metadata=pd.DataFrame()\n",
    "ticker_list=['GOOGL','AAPL', 'META', 'AMZN', 'MSFT']\n",
    "for ticker in ticker_list :\n",
    "    r_stock = requests.get('https://www.alphavantage.co/query?function=TIME_SERIES_DAILY&outputsize=full&symbol={ticker}&apikey={apiKey}'.format(apiKey=cr.AV_API_Key, ticker=ticker))\n",
    "    js_stock = r_stock.json()\n",
    "    # Ticker time series to DataFrame\n",
    "    df_time_series=pd.DataFrame(js_stock['Time Series (Daily)'])\n",
    "    df_time_series['Ticker']=ticker\n",
    "    ticker_time_series=pd.concat([ticker_time_series, df_time_series])\n",
    "    # Ticker metadata to DataFrame\n",
    "    df_metadata=pd.json_normalize(js_stock['Meta Data'])\n",
    "    df_metadata['Ticker']=ticker\n",
    "    ticker_metadata=pd.concat([ticker_metadata, df_metadata])\n",
    "display(ticker_time_series.head())\n",
    "display(ticker_metadata.head())"
   ]
  },
  {
   "cell_type": "code",
   "execution_count": null,
   "metadata": {},
   "outputs": [],
   "source": [
    "js_stock['Time Series (Daily)']"
   ]
  },
  {
   "cell_type": "code",
   "execution_count": null,
   "metadata": {},
   "outputs": [],
   "source": [
    "ticker_time_series"
   ]
  },
  {
   "cell_type": "code",
   "execution_count": null,
   "metadata": {},
   "outputs": [],
   "source": [
    "ticker_time_series['Ticker']"
   ]
  },
  {
   "cell_type": "code",
   "execution_count": null,
   "metadata": {},
   "outputs": [],
   "source": [
    "ticker_time_series"
   ]
  },
  {
   "cell_type": "code",
   "execution_count": null,
   "metadata": {},
   "outputs": [],
   "source": [
    "ticker_time_series=ticker_time_series.reset_index().rename({'index':'Value_type'}, axis=1)\n",
    "lg_ticker_ts = ticker_time_series.melt(id_vars=['Ticker','Value_type'])\n",
    "display(lg_ticker_ts.head())"
   ]
  },
  {
   "cell_type": "code",
   "execution_count": null,
   "metadata": {},
   "outputs": [],
   "source": [
    "lg_ticker_ts[lg_ticker_ts['value'].notnull()]['Ticker'].value_counts()"
   ]
  },
  {
   "cell_type": "code",
   "execution_count": null,
   "metadata": {},
   "outputs": [],
   "source": []
  }
 ],
 "metadata": {
  "kernelspec": {
   "display_name": ".venv",
   "language": "python",
   "name": "python3"
  },
  "language_info": {
   "codemirror_mode": {
    "name": "ipython",
    "version": 3
   },
   "file_extension": ".py",
   "mimetype": "text/x-python",
   "name": "python",
   "nbconvert_exporter": "python",
   "pygments_lexer": "ipython3",
   "version": "3.11.5"
  }
 },
 "nbformat": 4,
 "nbformat_minor": 2
}
